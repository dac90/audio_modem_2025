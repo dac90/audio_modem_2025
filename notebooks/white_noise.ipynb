{
 "cells": [
  {
   "cell_type": "code",
   "execution_count": null,
   "id": "959b75af",
   "metadata": {},
   "outputs": [],
   "source": [
    "import numpy as np\n",
    "import matplotlib.pyplot as plt\n",
    "import scipy.signal\n",
    "from modem import qpsk, chirp, wav"
   ]
  },
  {
   "cell_type": "code",
   "execution_count": null,
   "id": "7b69168b",
   "metadata": {},
   "outputs": [],
   "source": [
    "rng = np.random.default_rng(seed=42)\n",
    "\n",
    "def generate_pseudo_random_symbol():\n",
    "    num_bytes = 1024\n",
    "    data = bytes(rng.integers(255, size=num_bytes, dtype=np.uint8))\n",
    "\n",
    "    qpsk_symbols = qpsk.qpsk_encode(data)\n",
    "    ofdm_symbol = qpsk.encode_ofdm_symbol(qpsk_symbols)\n",
    "\n",
    "    return ofdm_symbol"
   ]
  },
  {
   "cell_type": "code",
   "execution_count": null,
   "id": "77a26ed2",
   "metadata": {},
   "outputs": [],
   "source": [
    "white_noise_symbols = [generate_pseudo_random_symbol() for i in range(10)]\n",
    "signal = np.concatenate((chirp.START_CHIRP, *white_noise_symbols, chirp.END_CHIRP))"
   ]
  },
  {
   "cell_type": "code",
   "execution_count": null,
   "id": "13a39906",
   "metadata": {},
   "outputs": [],
   "source": [
    "wav.generate_wav(\"chirp_white_noise.wav\", signal)"
   ]
  }
 ],
 "metadata": {
  "kernelspec": {
   "display_name": ".venv",
   "language": "python",
   "name": "python3"
  },
  "language_info": {
   "codemirror_mode": {
    "name": "ipython",
    "version": 3
   },
   "file_extension": ".py",
   "mimetype": "text/x-python",
   "name": "python",
   "nbconvert_exporter": "python",
   "pygments_lexer": "ipython3",
   "version": "3.13.3"
  }
 },
 "nbformat": 4,
 "nbformat_minor": 5
}
